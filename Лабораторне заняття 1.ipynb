{
 "cells": [
  {
   "cell_type": "markdown",
   "metadata": {},
   "source": [
    "# Лабораторне заняття №1"
   ]
  },
  {
   "cell_type": "markdown",
   "metadata": {},
   "source": [
    "## 1 Перестановки"
   ]
  },
  {
   "cell_type": "markdown",
   "metadata": {},
   "source": [
    "### 1.1 Використовуючи власну функцію"
   ]
  },
  {
   "cell_type": "code",
   "execution_count": 1,
   "metadata": {
    "collapsed": true
   },
   "outputs": [],
   "source": [
    "def permute(A):\n",
    "    if len(A)==1:\n",
    "        return [tuple(A)]\n",
    "    permutations = []\n",
    "    for x in A:\n",
    "        for y in permute(A-{x}):\n",
    "            permutations.append((x,)+y)\n",
    "    return permutations"
   ]
  },
  {
   "cell_type": "code",
   "execution_count": 2,
   "metadata": {
    "collapsed": true
   },
   "outputs": [],
   "source": [
    "A = {1, 2, 3}"
   ]
  },
  {
   "cell_type": "code",
   "execution_count": 9,
   "metadata": {},
   "outputs": [
    {
     "name": "stdout",
     "output_type": "stream",
     "text": [
      "Перестановки множини {1, 2, 3}: {(3, 1, 2), (1, 3, 2), (3, 2, 1), (2, 3, 1), (1, 2, 3), (2, 1, 3)}\n",
      "Кількість перестановок:  6\n"
     ]
    }
   ],
   "source": [
    "# Використовуючи власну функцію\n",
    "permute_all = set(permute(A))\n",
    "print(\"Перестановки множини {}: {}\".format(A,permute_all))\n",
    "print(\"Кількість перестановок: \", len(permute_all))"
   ]
  },
  {
   "cell_type": "markdown",
   "metadata": {},
   "source": [
    "### 1.2 Використовуючи бібліотеку `itertools`"
   ]
  },
  {
   "cell_type": "code",
   "execution_count": 4,
   "metadata": {
    "collapsed": true
   },
   "outputs": [],
   "source": [
    "from itertools import permutations"
   ]
  },
  {
   "cell_type": "code",
   "execution_count": null,
   "metadata": {
    "collapsed": true
   },
   "outputs": [],
   "source": [
    "A = {1, 2, 3}"
   ]
  },
  {
   "cell_type": "code",
   "execution_count": 10,
   "metadata": {},
   "outputs": [
    {
     "name": "stdout",
     "output_type": "stream",
     "text": [
      "Перестановки множини {1, 2, 3}: {(3, 1, 2), (1, 3, 2), (3, 2, 1), (2, 3, 1), (1, 2, 3), (2, 1, 3)}\n",
      "Кількість перестановок:  6\n"
     ]
    }
   ],
   "source": [
    "# Використовуючи бібліотеку itertools\n",
    "permute_all = set(permutations(A))\n",
    "print(\"Перестановки множини {}: {}\".format(A,permute_all))\n",
    "print(\"Кількість перестановок: \", len(permute_all))"
   ]
  },
  {
   "cell_type": "markdown",
   "metadata": {},
   "source": [
    "### 1.3 Задача\n",
    "Виведіть всі можливі перестановки та порахуйте їх кількість від таких множин:\n",
    "- {1, 3, 5}\n",
    "- {1, 2, 3, 4}\n",
    "- {1, 2, 2, 1}\n",
    "\n",
    "Порахуйте кількість перестановок таких множин:\n",
    "- {1, 2, 3, 4, 5}\n",
    "- {1, 2, 3, 4, 5, 6, 7}\n",
    "- {1, 3, 5, 7, 9, 11, 13, 15, 17, 19}"
   ]
  },
  {
   "cell_type": "code",
   "execution_count": 2,
   "metadata": {},
   "outputs": [
    {
     "name": "stdout",
     "output_type": "stream",
     "text": [
      "{1, 3, 5}\n",
      "Перестановки множини {1, 3, 5}: {(3, 5, 1), (5, 3, 1), (1, 5, 3), (3, 1, 5), (1, 3, 5), (5, 1, 3)}\n",
      "Кількість перестановок: 6 \n",
      "{1, 2, 3, 4}\n",
      "Перестановки множини {1, 2, 3, 4}: {(4, 1, 2, 3), (1, 3, 2, 4), (3, 4, 1, 2), (1, 4, 2, 3), (4, 2, 3, 1), (2, 4, 1, 3), (4, 3, 1, 2), (2, 1, 3, 4), (3, 1, 4, 2), (3, 2, 4, 1), (1, 3, 4, 2), (1, 2, 4, 3), (2, 4, 3, 1), (3, 1, 2, 4), (4, 1, 3, 2), (2, 3, 1, 4), (4, 2, 1, 3), (1, 2, 3, 4), (1, 4, 3, 2), (3, 4, 2, 1), (2, 3, 4, 1), (4, 3, 2, 1), (3, 2, 1, 4), (2, 1, 4, 3)}\n",
      "Кількість перестановок: 24 \n",
      "{1, 2}\n",
      "Перестановки множини {1, 2}: {(1, 2), (2, 1)}\n",
      "Кількість перестановок: 2 \n",
      "{1, 3, 5}\n",
      "Кількість перестановок: 6 \n",
      "{1, 2, 3, 4}\n",
      "Кількість перестановок: 24 \n",
      "{1, 2}\n",
      "Кількість перестановок: 2 \n"
     ]
    }
   ],
   "source": [
    "#Задача1.3(a)\n",
    "from itertools import permutations\n",
    "A = {1, 3, 5}\n",
    "B = {1, 2, 3, 4}\n",
    "C = {1, 2, 2, 1}\n",
    "p = [A, B, C]\n",
    "for i in p:\n",
    "    print(i)\n",
    "    permute_all = set(permutations(i))\n",
    "    print(\"Перестановки множини {}: {}\".format(i,permute_all))\n",
    "    print(\"Кількість перестановок: {} \".format(len(permute_all)))\n",
    "    \n",
    "\n",
    "#Task1.3(b)\n",
    "A1 = {1, 2, 3, 4, 5}\n",
    "B1 = {1, 2, 3, 4, 5, 6, 7}\n",
    "C1 = {1, 3, 5, 7, 9, 11, 13, 15, 17, 19}\n",
    "p1 = [A, B, C]\n",
    "for i in p1:\n",
    "    print(i)\n",
    "    permute_all = set(permutations(i))\n",
    "    print(\"Кількість перестановок: {} \".format(len(permute_all)))\n",
    "\n"
   ]
  },
  {
   "cell_type": "markdown",
   "metadata": {},
   "source": [
    "### 1.4 Задача\n",
    "Виведіть всі можливі перестановки без нерухомих точок та порахуйте їх кількість від таких множин:\n",
    "- {1, 2, 3}\n",
    "- {1, 2, 3, 4}\n",
    "- {1, 3, 5, 7}\n",
    "- {1, 2, 2, 1}\n",
    "\n",
    "_Перестановка без нерухомих точок_ - це така перестановка, в якій позиція кожного елементу не збігається з його позицією в початковій множині.\n",
    "**Приклад.** Для множини {1, 2, 3, 4, 5}:\n",
    "- {4, 1, 5, 2, 3} - перестановка без нерухомих точок\n",
    "- {4, **2**, 1, 3, **5**} - перестановка з нерухомими точками"
   ]
  },
  {
   "cell_type": "code",
   "execution_count": 3,
   "metadata": {},
   "outputs": [
    {
     "name": "stdout",
     "output_type": "stream",
     "text": [
      "[[(2, 3, 1)], [(3, 1, 2)]]\n",
      "Number of such permutations: 2\n",
      "[[(2, 1, 4, 3)], [(2, 3, 4, 1)], [(2, 4, 1, 3)], [(3, 1, 4, 2)], [(3, 4, 1, 2)], [(3, 4, 2, 1)], [(4, 1, 2, 3)], [(4, 3, 1, 2)], [(4, 3, 2, 1)]]\n",
      "Number of such permutations: 9\n",
      "[[(3, 1, 7, 5)], [(3, 5, 7, 1)], [(3, 7, 1, 5)], [(5, 1, 7, 3)], [(5, 7, 1, 3)], [(5, 7, 3, 1)], [(7, 1, 3, 5)], [(7, 5, 1, 3)], [(7, 5, 3, 1)]]\n",
      "Number of such permutations: 9\n",
      "[[(2, 1, 1, 2)], [(2, 1, 1, 2)], [(2, 1, 1, 2)], [(2, 1, 1, 2)]]\n",
      "Number of such permutations: 4\n"
     ]
    }
   ],
   "source": [
    "#Task1.4\n",
    "from itertools import permutations\n",
    "sets = [ [1, 2, 3], [1, 2, 3, 4], [1, 3, 5, 7], [1, 2, 2, 1]]\n",
    "\n",
    "\n",
    "def check(perm1,perm2):\n",
    "    global res \n",
    "    res = []\n",
    "    not_res = []\n",
    "    if len(perm1)==len(perm2):\n",
    "        for i in range (len(perm1)):\n",
    "            if perm1[i] == perm2[i]:\n",
    "                not_res.append(i)\n",
    "    if len(not_res) == 0:\n",
    "        res.append(perm2)\n",
    "    else:\n",
    "        pass\n",
    "   \n",
    "    return True\n",
    " \n",
    "for s in sets:\n",
    "    var = list(s)\n",
    "    p = permutations(s)\n",
    "    a = []\n",
    "    \n",
    "    for i in p:\n",
    "        check(var, i)\n",
    "        if len(res) != 0:\n",
    "            a.append(res)\n",
    "    print(a)\n",
    "    print('Number of such permutations:', len(a))\n"
   ]
  },
  {
   "cell_type": "markdown",
   "metadata": {},
   "source": [
    "### 1.5 Задача\n",
    "Виведіть всі можливі перестановки, в яких перші $4$ елементи зростають, а наступні спадають, та порахуйте їх кількість від таких множин:\n",
    "- {1, 2, 3, 4, 5, 6, 7, 8}\n",
    "- {1, 2, 3, 4, 5, 6, 7, 8, 9, 10}"
   ]
  },
  {
   "cell_type": "code",
   "execution_count": null,
   "metadata": {},
   "outputs": [],
   "source": [
    "#Task1.5\n",
    "from itertools import permutations\n",
    "\n",
    "\n",
    "def check(s):    \n",
    "    for i in range(1, 5):\n",
    "        if s[i-1] > s[i]:\n",
    "            return True\n",
    "def check1(s):\n",
    "        \n",
    "    for i in range(5, len(s)):\n",
    "        if s[i-1] < s[i]:\n",
    "            return True\n",
    "    \n",
    "   \n",
    "    \n",
    "    \n",
    "sets = [[1, 2, 3, 4, 5, 6, 7, 8], [1, 2, 3, 4, 5, 6, 7, 8, 9, 10]]\n",
    "\n",
    "for s in sets:\n",
    "    res = []\n",
    "    p = permutations(s)\n",
    "    \n",
    "    for i in p:\n",
    "        if  not(check(i)) and not(check1(i)):\n",
    "            res.append(i)\n",
    "            \n",
    "    print(\"\\nWe have  {} permutations for s {}:\".format(len(res),s))\n",
    "    for r in res:\n",
    "        print(r)\n",
    "            \n",
    "\n"
   ]
  },
  {
   "cell_type": "markdown",
   "metadata": {},
   "source": [
    "## 2 Часткові перестановки"
   ]
  },
  {
   "cell_type": "markdown",
   "metadata": {},
   "source": [
    "### 2.1 Використовуючи бібліотеку `itertools`"
   ]
  },
  {
   "cell_type": "code",
   "execution_count": 12,
   "metadata": {
    "collapsed": true
   },
   "outputs": [],
   "source": [
    "A = {1, 2, 3}\n",
    "k = 2"
   ]
  },
  {
   "cell_type": "code",
   "execution_count": 14,
   "metadata": {},
   "outputs": [
    {
     "name": "stdout",
     "output_type": "stream",
     "text": [
      "Перестановки довжини 2 множини {1, 2, 3}: [(1, 2), (1, 3), (2, 1), (2, 3), (3, 1), (3, 2)]\n",
      "Кількість таких перестановок: 6\n"
     ]
    }
   ],
   "source": [
    "# перестановки довжини k множини A\n",
    "permute_k = list(permutations(A, k))\n",
    "print(\"Перестановки довжини {} множини {}: {}\".format(k,A,permute_k))\n",
    "print(\"Кількість таких перестановок: {}\".format(len(permute_k)))"
   ]
  },
  {
   "cell_type": "markdown",
   "metadata": {},
   "source": [
    "### 2.2 Задача\n",
    "Нехай $n$ - розмір множини, $k$ - розмір перестановок.\n",
    "Виведіть всі можливі часткові перестановки та порахуйте їх кількість для таких параметрів:\n",
    "- $n = 4, k = 2$\n",
    "- $n = 4, k = 3$\n",
    "- $n = 5, k = 2$\n",
    "\n",
    "Порахуйте кількість часткових перестановок для таких параметрів:\n",
    "- $n = 6, k = 2$\n",
    "- $n = 6, k = 4$\n",
    "- $n = 8, k = 4$"
   ]
  },
  {
   "cell_type": "code",
   "execution_count": 14,
   "metadata": {},
   "outputs": [
    {
     "name": "stdout",
     "output_type": "stream",
     "text": [
      "All 12 permutations for n = 4 and k = 2\n",
      "(1, 2)\n",
      "(1, 3)\n",
      "(1, 4)\n",
      "(2, 1)\n",
      "(2, 3)\n",
      "(2, 4)\n",
      "(3, 1)\n",
      "(3, 2)\n",
      "(3, 4)\n",
      "(4, 1)\n",
      "(4, 2)\n",
      "(4, 3)\n",
      "All 24 permutations for n = 4 and k = 3\n",
      "(1, 2, 3)\n",
      "(1, 2, 4)\n",
      "(1, 3, 2)\n",
      "(1, 3, 4)\n",
      "(1, 4, 2)\n",
      "(1, 4, 3)\n",
      "(2, 1, 3)\n",
      "(2, 1, 4)\n",
      "(2, 3, 1)\n",
      "(2, 3, 4)\n",
      "(2, 4, 1)\n",
      "(2, 4, 3)\n",
      "(3, 1, 2)\n",
      "(3, 1, 4)\n",
      "(3, 2, 1)\n",
      "(3, 2, 4)\n",
      "(3, 4, 1)\n",
      "(3, 4, 2)\n",
      "(4, 1, 2)\n",
      "(4, 1, 3)\n",
      "(4, 2, 1)\n",
      "(4, 2, 3)\n",
      "(4, 3, 1)\n",
      "(4, 3, 2)\n",
      "All 20 permutations for n = 5 and k = 2\n",
      "(1, 2)\n",
      "(1, 3)\n",
      "(1, 4)\n",
      "(1, 5)\n",
      "(2, 1)\n",
      "(2, 3)\n",
      "(2, 4)\n",
      "(2, 5)\n",
      "(3, 1)\n",
      "(3, 2)\n",
      "(3, 4)\n",
      "(3, 5)\n",
      "(4, 1)\n",
      "(4, 2)\n",
      "(4, 3)\n",
      "(4, 5)\n",
      "(5, 1)\n",
      "(5, 2)\n",
      "(5, 3)\n",
      "(5, 4)\n",
      "All permutations for n = 6 and k = 2  - 30\n",
      "All permutations for n = 6 and k = 4  - 360\n",
      "All permutations for n = 8 and k = 4  - 1680\n"
     ]
    }
   ],
   "source": [
    "#Task2.2\n",
    "from itertools import permutations\n",
    "# in this task I choose some sets which match the given parameters n. In next tasks I used another way to solve such problems\n",
    "A = {1,2,3,4}\n",
    "C = {1,2,3,4,5}\n",
    "D = {1,2,3,4,5,6}\n",
    "E = {1,2,3,4,5,6,7,8}\n",
    "a = [[A,2],[A,3],[C,2]]\n",
    "b = [[D,2], [D,4], [E, 4]] \n",
    "\n",
    "for i, j in a:\n",
    "        p = list(permutations(i,j))\n",
    "        print(\"All {} permutations for n = {} and k = {}\".format(len(p),len(i),j))\n",
    "        for t in p:\n",
    "            print(t)\n",
    "            \n",
    "for i, j in b:\n",
    "    p = list(permutations(i,j))\n",
    "    print(\"All permutations for n = {} and k = {}  - {}\".format(len(i), j, len(p)))\n"
   ]
  },
  {
   "cell_type": "markdown",
   "metadata": {},
   "source": [
    "## 3 Комбінації без повторень"
   ]
  },
  {
   "cell_type": "markdown",
   "metadata": {},
   "source": [
    "### 3.1 Використовуючи бібліотеку `itertools`"
   ]
  },
  {
   "cell_type": "code",
   "execution_count": 16,
   "metadata": {
    "collapsed": true
   },
   "outputs": [],
   "source": [
    "from itertools import combinations"
   ]
  },
  {
   "cell_type": "code",
   "execution_count": 18,
   "metadata": {
    "collapsed": true
   },
   "outputs": [],
   "source": [
    "A = {1, 2, 3}\n",
    "k = 2"
   ]
  },
  {
   "cell_type": "code",
   "execution_count": 19,
   "metadata": {},
   "outputs": [
    {
     "name": "stdout",
     "output_type": "stream",
     "text": [
      "Комбінації довжини 2 множини {1, 2, 3}: [(1, 2), (1, 3), (2, 3)]\n",
      "Кількість таких комбінацій: 3\n"
     ]
    }
   ],
   "source": [
    "# комбінації довжини k множини A\n",
    "choose_k = list(combinations(A,k))\n",
    "print(\"Комбінації довжини {} множини {}: {}\".format(k,A,choose_k))\n",
    "print(\"Кількість таких комбінацій: {}\".format(len(choose_k)  ))"
   ]
  },
  {
   "cell_type": "markdown",
   "metadata": {},
   "source": [
    "### 3.2 Задача\n",
    "Нехай $n$ - розмір множини, $k$ - розмір комбінацій.\n",
    "Виведіть всі можливі комбінації без повторень та порахуйте їх кількість для таких параметрів:\n",
    "- $n = 4, k = 2$\n",
    "- $n = 4, k = 3$\n",
    "- $n = 5, k = 2$\n",
    "\n",
    "Порахуйте кількість комбінацій без повторень для таких параметрів:\n",
    "- $n = 6, k = 2$\n",
    "- $n = 6, k = 4$\n",
    "- $n = 8, k = 4$"
   ]
  },
  {
   "cell_type": "code",
   "execution_count": 7,
   "metadata": {},
   "outputs": [
    {
     "name": "stdout",
     "output_type": "stream",
     "text": [
      "\n",
      "Case n = 4, k = 2, there are 6 combinations:\n",
      "(1, 2)\n",
      "(1, 3)\n",
      "(1, 4)\n",
      "(2, 3)\n",
      "(2, 4)\n",
      "(3, 4)\n",
      "\n",
      "Case n = 4, k = 3, there are 4 combinations:\n",
      "(1, 2, 3)\n",
      "(1, 2, 4)\n",
      "(1, 3, 4)\n",
      "(2, 3, 4)\n",
      "\n",
      "Case n = 5, k = 2, there are 10 combinations:\n",
      "(1, 2)\n",
      "(1, 3)\n",
      "(1, 4)\n",
      "(1, 5)\n",
      "(2, 3)\n",
      "(2, 4)\n",
      "(2, 5)\n",
      "(3, 4)\n",
      "(3, 5)\n",
      "(4, 5)\n",
      "\n",
      "Case n = 6, k = 2, there are 15 combinations:\n",
      "\n",
      "Case n = 6, k = 4, there are 15 combinations:\n",
      "\n",
      "Case n = 8, k = 4, there are 70 combinations:\n"
     ]
    }
   ],
   "source": [
    "#Task 3.2\n",
    "from itertools import combinations\n",
    "\n",
    "list_ = [[4,2], [4,3], [5,2]]\n",
    "list1 = [[6,2],[6,4],[8,4]]\n",
    "for i, j in list_:\n",
    "    c = combinations(range(1, i+1), j)\n",
    "    a = list(c)\n",
    "    print(\"\\nCase n = {}, k = {}, there are {} combinations:\".format(i, j, len(a)))\n",
    "    for p in a:\n",
    "           print(p)\n",
    "            \n",
    "for i, j in list1:\n",
    "    c = combinations(range(1, i+1), j)\n",
    "    a = list(c)\n",
    "    print(\"\\nCase n = {}, k = {}, there are {} combinations:\".format(i, j, len(a)))\n",
    "    "
   ]
  },
  {
   "cell_type": "markdown",
   "metadata": {},
   "source": [
    "### 3.3 Задача\n",
    "Нехай $A$ - множина з $10$ елементів, кожен з яких є цілим числом від $1$ до $100$.\n",
    "Тобто $$A = \\{ a_i \\}_{i = 1}^{10},\\\\ 1 \\leq a_i \\leq 100, \\quad i = 1, \\ldots, 10.$$\n",
    "Скільки елементів може бути в множині, яка складається із попарних сум елементів множини $A$?\n",
    "$$B = \\{ b_k \\, \\colon \\, b_k = a_i + a_j, \\quad a_i, a_j \\in A, \\, 1 \\leq i, j \\leq 10, \\, i \\neq j \\}_{k = 1}^{\\textbf{?}}$$"
   ]
  },
  {
   "cell_type": "code",
   "execution_count": 13,
   "metadata": {},
   "outputs": [
    {
     "name": "stdout",
     "output_type": "stream",
     "text": [
      "В множині В, яка складається із попарних сум елементів множини А може бути 45 елементів.\n"
     ]
    }
   ],
   "source": [
    "from itertools import combinations\n",
    "\n",
    "A = {1,3,4,6,9,12,15,18,21,24} # I chose one set for instance\n",
    "print(\"Set B, which consists of pairwise sums of elements of the set A, may contain  {} elements.\".format(len(list(combinations(A, 2)))))"
   ]
  },
  {
   "cell_type": "markdown",
   "metadata": {},
   "source": [
    "## 4 Комбінації з повтореннями"
   ]
  },
  {
   "cell_type": "markdown",
   "metadata": {},
   "source": [
    "### 4.1 Використовуючи бібліотеку `itertools`"
   ]
  },
  {
   "cell_type": "code",
   "execution_count": 22,
   "metadata": {
    "collapsed": true
   },
   "outputs": [],
   "source": [
    "from itertools import combinations_with_replacement"
   ]
  },
  {
   "cell_type": "code",
   "execution_count": 21,
   "metadata": {
    "collapsed": true
   },
   "outputs": [],
   "source": [
    "A = {1, 2, 3}\n",
    "k = 2"
   ]
  },
  {
   "cell_type": "code",
   "execution_count": 23,
   "metadata": {},
   "outputs": [
    {
     "name": "stdout",
     "output_type": "stream",
     "text": [
      "Комбінації довжини 2 множини {1, 2, 3}: [(1, 1), (1, 2), (1, 3), (2, 2), (2, 3), (3, 3)]\n",
      "Кількість таких комбінацій: 6\n"
     ]
    }
   ],
   "source": [
    "# комбінації довжини k множини A\n",
    "choose_k = list(combinations_with_replacement(A,k))\n",
    "print(\"Комбінації довжини {} множини {}: {}\".format(k,A,choose_k))\n",
    "print(\"Кількість таких комбінацій: {}\".format(len(choose_k)  ))"
   ]
  },
  {
   "cell_type": "markdown",
   "metadata": {},
   "source": [
    "### 4.2 Задача\n",
    "Нехай $n$ - розмір множини, $k$ - розмір комбінацій.\n",
    "Виведіть всі можливі комбінації з повтореннями та порахуйте їх кількість для таких параметрів:\n",
    "- $n = 4, k = 2$\n",
    "- $n = 4, k = 3$\n",
    "- $n = 5, k = 2$\n",
    "\n",
    "Порахуйте кількість комбінацій з повтореннями для таких параметрів:\n",
    "- $n = 6, k = 2$\n",
    "- $n = 6, k = 4$\n",
    "- $n = 8, k = 4$"
   ]
  },
  {
   "cell_type": "code",
   "execution_count": 11,
   "metadata": {},
   "outputs": [
    {
     "name": "stdout",
     "output_type": "stream",
     "text": [
      "\n",
      "Case n = 4, k = 2, we have 10 combinations with replacements:\n",
      "(1, 1)\n",
      "(1, 2)\n",
      "(1, 3)\n",
      "(1, 4)\n",
      "(2, 2)\n",
      "(2, 3)\n",
      "(2, 4)\n",
      "(3, 3)\n",
      "(3, 4)\n",
      "(4, 4)\n",
      "\n",
      "Case n = 4, k = 3, we have 20 combinations with replacements:\n",
      "(1, 1, 1)\n",
      "(1, 1, 2)\n",
      "(1, 1, 3)\n",
      "(1, 1, 4)\n",
      "(1, 2, 2)\n",
      "(1, 2, 3)\n",
      "(1, 2, 4)\n",
      "(1, 3, 3)\n",
      "(1, 3, 4)\n",
      "(1, 4, 4)\n",
      "(2, 2, 2)\n",
      "(2, 2, 3)\n",
      "(2, 2, 4)\n",
      "(2, 3, 3)\n",
      "(2, 3, 4)\n",
      "(2, 4, 4)\n",
      "(3, 3, 3)\n",
      "(3, 3, 4)\n",
      "(3, 4, 4)\n",
      "(4, 4, 4)\n",
      "\n",
      "Case n = 5, k = 2, we have 15 combinations with replacements:\n",
      "(1, 1)\n",
      "(1, 2)\n",
      "(1, 3)\n",
      "(1, 4)\n",
      "(1, 5)\n",
      "(2, 2)\n",
      "(2, 3)\n",
      "(2, 4)\n",
      "(2, 5)\n",
      "(3, 3)\n",
      "(3, 4)\n",
      "(3, 5)\n",
      "(4, 4)\n",
      "(4, 5)\n",
      "(5, 5)\n",
      "\n",
      "Case n = 6, k = 2, we have 21 combinations with replacements.\n",
      "\n",
      "Case n = 6, k = 4, we have 126 combinations with replacements.\n",
      "\n",
      "Case n = 8, k = 4, we have 330 combinations with replacements.\n"
     ]
    }
   ],
   "source": [
    "from itertools import combinations_with_replacement as rcombinations\n",
    "\n",
    "\n",
    "list_ = [[4, 2],[4, 3],[5, 2]]\n",
    "list1 = [[6, 2],[6, 4],[8, 4]]\n",
    "\n",
    "for i, j in list_:\n",
    "    c_ = rcombinations(range(1, i+1), j)\n",
    "    c_1 = list(c_)\n",
    "    print(\"\\nCase n = {}, k = {}, we have {} combinations with replacements:\".format(i, j, len(c_1)))\n",
    "    for r in c_1:\n",
    "        print(r)\n",
    "\n",
    "for i, j in list1:\n",
    "    c_ = rcombinations(range(1, i+1), j)\n",
    "    c_1 = list(c_)\n",
    "    print(\"\\nCase n = {}, k = {}, we have {} combinations with replacements.\".format(i, j, len(c_1)))\n",
    "\n"
   ]
  },
  {
   "cell_type": "markdown",
   "metadata": {},
   "source": [
    "### 4.3 Задача\n",
    "Скільки існує 6-цифрових наборів таких, що сума перших трьох цифр дорівнює сумі останніх трьох?"
   ]
  },
  {
   "cell_type": "code",
   "execution_count": 24,
   "metadata": {
    "collapsed": true
   },
   "outputs": [],
   "source": [
    "from itertools import product\n",
    "\n",
    "def check(s):\n",
    "    if sum(s[:3]) == sum(s[3:]):\n",
    "        return True\n",
    "    \n",
    "num = product(range(10), repeat=6)\n",
    "p = []\n",
    "for i in num:\n",
    "    if check(i):\n",
    "        p.append(i)\n",
    "\n",
    "ans = len(p)\n",
    "\n",
    "print(\"There are {} 6th-digits numbers that match our condition.\".format(ans))\n",
    "\n"
   ]
  },
  {
   "cell_type": "markdown",
   "metadata": {},
   "source": [
    "### 4.4 Задача\n",
    "Скільки існує 6-цифрових чисел, в яких дві однакові цифри не стоять поряд?"
   ]
  },
  {
   "cell_type": "code",
   "execution_count": 24,
   "metadata": {
    "collapsed": true
   },
   "outputs": [],
   "source": [
    "from itertools import product\n",
    "\n",
    "def check(s):\n",
    "    if s[0] != 0:\n",
    "        for i in range(1, 5):\n",
    "            if s[i-1] == s[i] or s[i+1] == s[i]:\n",
    "                return False\n",
    "    else:\n",
    "        return False\n",
    "    return True\n",
    "\n",
    "num = product(range(10), repeat=6)\n",
    "\n",
    "p = []\n",
    "for i in num:\n",
    "    if check(i):\n",
    "        p.append(i)\n",
    "        \n",
    "\n",
    "ans = len(p)\n",
    "\n",
    "print(\"There are {} 6th-digits numbers that match our condition.\".format(ans))\n"
   ]
  }
 ],
 "metadata": {
  "kernelspec": {
   "display_name": "Python 3",
   "language": "python",
   "name": "python3"
  },
  "language_info": {
   "codemirror_mode": {
    "name": "ipython",
    "version": 3
   },
   "file_extension": ".py",
   "mimetype": "text/x-python",
   "name": "python",
   "nbconvert_exporter": "python",
   "pygments_lexer": "ipython3",
   "version": "3.6.5"
  }
 },
 "nbformat": 4,
 "nbformat_minor": 1
}
