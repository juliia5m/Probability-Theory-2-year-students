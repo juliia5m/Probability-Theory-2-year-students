{
 "cells": [
  {
   "cell_type": "markdown",
   "metadata": {},
   "source": [
    "# Домашня робота №2"
   ]
  },
  {
   "cell_type": "markdown",
   "metadata": {},
   "source": [
    "## 1 Пароль\n",
    "Напишіть програму (функцію) для генерування випадкового пароля з такими обмеженнями:\n",
    "- пароль складається з рівно $10$ символів\n",
    "- пароль містить хоча б одну маленьку латинську літеру [a-z]\n",
    "- пароль містить хоча б одну велику латинську літеру [A-Z]\n",
    "- пароль містить хоча б одну цифру [0-9]\n",
    "- пароль містить хоча б один спеціальний символ [~!@#$%^&*()-_+=\\/{}[].,?<>:;]"
   ]
  },
  {
   "cell_type": "code",
   "execution_count": 1,
   "metadata": {},
   "outputs": [
    {
     "name": "stdout",
     "output_type": "stream",
     "text": [
      "r=}6a<O&K}\n"
     ]
    }
   ],
   "source": [
    "import numpy as np\n",
    "\n",
    "a1 = [1, 2, 3, 4, 5, 6, 7, 8, 9, 0]\n",
    "a2 = [chr(i) for i in range(ord('a'), ord('z')+1)]\n",
    "a3 = [chr(i) for i in range(ord('A'), ord('Z')+1)]\n",
    "a4 = list('~!@#$%^&*()-_+=\\/{}[].,?<>:;')\n",
    "p = [a1, a2, a3, a4]\n",
    "ans = [np.random.choice(i) for i in p]\n",
    "ans1 = list(np.random.choice(a1 + a2 +a3 +a4,size = 6))\n",
    "pas = ans + ans1\n",
    "np.random.shuffle(pas)\n",
    "print(''.join(list(map(str, pas))))"
   ]
  },
  {
   "cell_type": "markdown",
   "metadata": {},
   "source": [
    "## 2 Герби в ряд\n",
    "Реалізуйте функцію для обчислення емпіричної та теоретичної імовірностей випадіння $k$ гербів (HEADS) підряд у серії з $n$ підкидань чесної монетки. Підрахуйте відповідні ймовірності для таких параметрів:\n",
    "- $k = 2, n = 10, 50, 100, 500, 1000, 5000, 10000$\n",
    "- $k = 3, n = 10, 50, 100, 500, 1000, 5000, 10000$\n",
    "\n",
    "**Зауваження.** Нехай $k = 2, n = 10$ та маємо таку послідовність результатів підкидання монети: $\\{ H, T, H, H, H, H, T, T, H, T \\}$. Тоді матимемо $3$ випадки випадіння двох гербів підряд та емпіричну ймовірність такої події $1/3$."
   ]
  },
  {
   "cell_type": "code",
   "execution_count": 6,
   "metadata": {},
   "outputs": [
    {
     "name": "stdout",
     "output_type": "stream",
     "text": [
      "For k = 2, n = 10 emperical_prob------ = 0, theoretical_prob-------- = 0.0087890625;\n",
      "For k = 2, n = 50 emperical_prob------ = 0.2653061224489796, theoretical_prob-------- = 4.3520742565306136e-14;\n",
      "For k = 2, n = 100 emperical_prob------ = 0.2828282828282828, theoretical_prob-------- = 7.809722961688017e-29;\n",
      "For k = 2, n = 500 emperical_prob------ = 0.2685370741482966, theoretical_prob-------- = 1.5244132453863027e-148;\n",
      "For k = 2, n = 1000 emperical_prob------ = 0.25125125125125125, theoretical_prob-------- = 9.323303548847157e-299;\n",
      "For k = 2, n = 5000 emperical_prob------ = 0.2416483296659332, theoretical_prob-------- = 0.0;\n",
      "For k = 2, n = 10000 emperical_prob------ = 0.2532253225322532, theoretical_prob-------- = 0.0;\n",
      "For k = 3, n = 10 emperical_prob------ = 0, theoretical_prob-------- = 0.0087890625;\n",
      "For k = 3, n = 50 emperical_prob------ = 0.10204081632653061, theoretical_prob-------- = 4.3520742565306136e-14;\n",
      "For k = 3, n = 100 emperical_prob------ = 0.10101010101010101, theoretical_prob-------- = 7.809722961688017e-29;\n",
      "For k = 3, n = 500 emperical_prob------ = 0.15030060120240482, theoretical_prob-------- = 1.5244132453863027e-148;\n",
      "For k = 3, n = 1000 emperical_prob------ = 0.11611611611611612, theoretical_prob-------- = 9.323303548847157e-299;\n",
      "For k = 3, n = 5000 emperical_prob------ = 0.126625325065013, theoretical_prob-------- = 0.0;\n",
      "For k = 3, n = 10000 emperical_prob------ = 0.12971297129712972, theoretical_prob-------- = 0.0;\n"
     ]
    }
   ],
   "source": [
    "import numpy as np\n",
    "\n",
    "def emperic_prob2(tos):\n",
    "    k = 0\n",
    "    for i in range(len(tos)-1):\n",
    "        if (tos[i] == tos[i+1] == 'H'):\n",
    "            k += 1\n",
    "    if k == 0:\n",
    "        return 0\n",
    "\n",
    "    return str(k/(len(tos) - 1))\n",
    "\n",
    "\n",
    "def emperic_prob3(tos):\n",
    "    k = 0\n",
    "    for i in range(len(tos)-2):\n",
    "        if (tos[i] == tos[i+1] == tos[i+2] == 'H'):\n",
    "            k += 1\n",
    "    if k == 0:\n",
    "        return 0\n",
    "\n",
    "    \n",
    "    return str(k/(len(tos) - 1))\n",
    "\n",
    "\n",
    "\n",
    "val= [10, 50, 100, 500, 1000, 5000, 10000]\n",
    "for i in val:\n",
    "    p = 0.5\n",
    "    tosses = np.random.choice([\"H\", \"T\"], p=[p, 1 - p], size=i)\n",
    "    t = list(tosses)\n",
    "    print(\"For k = 2, n = {} emperical_prob------ = {}, theoretical_prob-------- = {};\".format(i,emperic_prob2(t), (i-1)/(2**i)))\n",
    "\n",
    "for i in val:\n",
    "    p = 0.5\n",
    "    tosses1 = np.random.choice([\"H\", \"T\"], p=[p, 1 - p], size=i)\n",
    "    t1 = list(tosses1)\n",
    "    print(\"For k = 3, n = {} emperical_prob------ = {}, theoretical_prob-------- = {};\".format(i,emperic_prob3(t1), (i-1)/(2**i)))\n"
   ]
  },
  {
   "cell_type": "markdown",
   "metadata": {},
   "source": [
    "## 3 Найбільше число\n",
    "Реалізуйте функцію підрахунку точної (теоретичної) імовірності того, що максимальне число після $n$ кидків звичайного грального кубика дорівнює $x\\_max$, для таких параметрів:\n",
    "- $n = 3, x\\_max = 6$\n",
    "- $n = 2, x\\_max = 3$\n",
    "- $n = 3, x\\_max = 5$\n",
    "\n",
    "Тобто, якщо $X_i, i = 1, \\ldots, n$, - число на $i$-му кидку кубика, а $X = \\max\\limits_{1 \\leq i \\leq n} X_i$, то потрібно знайти ймовірність $\\textbf{P} \\left( X = x\\_max \\right)$.\n",
    "\n",
    "Підрахуйте також емпіричні ймовірності відповідних подій у випадку $10000$ симуляцій.\n",
    "\n",
    "**Зауваження.** Якщо введені параметри не мають сенсу, то повертати $0$.\n",
    "Тобто, якщо вводиться $x\\_max < 1$ або $x\\_max > 6$."
   ]
  },
  {
   "cell_type": "code",
   "execution_count": 4,
   "metadata": {},
   "outputs": [
    {
     "name": "stdout",
     "output_type": "stream",
     "text": [
      "n = 3, x_max = 6\n",
      "Our theoretical probability: 0.4212962962962963\n",
      "Empirical probability: 0.4193\n",
      "n = 2, x_max = 3\n",
      "Our theoretical probability: 0.1388888888888889\n",
      "Empirical probability: 0.1361\n",
      "n = 3, x_max = 5\n",
      "Our theoretical probability: 0.2824074074074074\n",
      "Empirical probability: 0.2823\n"
     ]
    }
   ],
   "source": [
    "#task3\n",
    "import numpy as np\n",
    "import itertools\n",
    "N = 10000\n",
    "val = [1, 2, 3, 4, 5 ,6]\n",
    "p = [[3 ,6], [2,3], [3,5]]\n",
    "\n",
    "def prob(n,x_max):\n",
    "    lst = list(itertools.product(val, repeat=n))\n",
    "    print('n = {}, x_max = {}'.format(n, x_max))\n",
    "    a = []\n",
    "    for x in lst:\n",
    "        if max(x) == x_max:\n",
    "            a.append(x)\n",
    "\n",
    "    return (len(a) / len(lst))\n",
    "\n",
    "\n",
    "\n",
    "for n, x_max in p:\n",
    "     if (x_max >=1) or (x_max<=6):   #тобто якщо x_max не виходить за діапазон наших val\n",
    "        print('Our theoretical probability:',prob(n,x_max))\n",
    "        b = [max(np.random.choice(val, size=n)) for i  in range(N)]\n",
    "        print('Empirical probability:', (b.count(x_max)/N))\n",
    "     else:\n",
    "         print(0)\n",
    "\n"
   ]
  },
  {
   "cell_type": "markdown",
   "metadata": {},
   "source": [
    "## 4 Сума чисел\n",
    "Реалізуйте функцію підрахунку точної (теоретичної) імовірності того, що сума чисел після $n$ кидків звичайного грального кубика дорівнює $s$, для таких параметрів:\n",
    "- $n = 3, s = 13$\n",
    "- $n = 2, s = 5$\n",
    "- $n = 3, s = 7$\n",
    "\n",
    "Тобто, якщо $X_i, i = 1, \\ldots, n$, - число на $i$-му кидку кубика, а $X = \\sum\\limits_{i = 1}^{n} X_i$, то потрібно знайти ймовірність $\\textbf{P} \\left( X = s \\right)$.\n",
    "\n",
    "Підрахуйте також емпіричні ймовірності відповідних подій у випадку $10000$ симуляцій.\n",
    "\n",
    "**Зауваження.** Якщо введені параметри не мають сенсу, то повертати $0$.\n",
    "Наприклад, якщо при $n = 3$ вводиться $s < 3$ або $s > 18$."
   ]
  },
  {
   "cell_type": "code",
   "execution_count": 2,
   "metadata": {},
   "outputs": [
    {
     "name": "stdout",
     "output_type": "stream",
     "text": [
      "n = 3, sum = 13\n",
      "Our theoretical probability: ('Theoretical probability: ', 0.09722222222222222)\n",
      "Empirical probability: 0.0985\n",
      "n = 2, sum = 5\n",
      "Our theoretical probability: ('Theoretical probability: ', 0.1111111111111111)\n",
      "Empirical probability: 0.1088\n",
      "n = 3, sum = 7\n",
      "Our theoretical probability: ('Theoretical probability: ', 0.06944444444444445)\n",
      "Empirical probability: 0.0696\n"
     ]
    }
   ],
   "source": [
    "#task4\n",
    "import itertools\n",
    "import numpy as np\n",
    "\n",
    "\n",
    "N = 10000\n",
    "val = [1,2,3,4,5,6]\n",
    "p = [[3, 13], [2, 5], [3, 7]]\n",
    "def prob(n, s):\n",
    "    lst = list(itertools.product(val, repeat=n))\n",
    "    print('n = {}, sum = {}'.format(n, s))\n",
    "    a = []\n",
    "    for x in lst:\n",
    "        if sum(x) == s:\n",
    "            a.append(x)\n",
    "\n",
    "    return ('Theoretical probability: ',(len(a) / len(lst)))\n",
    "\n",
    "for n, s in p:\n",
    "    if (s< n) or ( s > 6*n):\n",
    "        print(0)\n",
    "    else:\n",
    "        print('Our theoretical probability:',prob(n,s))\n",
    "        b = [sum(np.random.choice(val, size=n)) for i  in range(N)]\n",
    "        print('Empirical probability:', (b.count(s)/N))"
   ]
  },
  {
   "cell_type": "code",
   "execution_count": null,
   "metadata": {},
   "outputs": [],
   "source": []
  }
 ],
 "metadata": {
  "kernelspec": {
   "display_name": "Python 3",
   "language": "python",
   "name": "python3"
  },
  "language_info": {
   "codemirror_mode": {
    "name": "ipython",
    "version": 3
   },
   "file_extension": ".py",
   "mimetype": "text/x-python",
   "name": "python",
   "nbconvert_exporter": "python",
   "pygments_lexer": "ipython3",
   "version": "3.6.5"
  }
 },
 "nbformat": 4,
 "nbformat_minor": 1
}
